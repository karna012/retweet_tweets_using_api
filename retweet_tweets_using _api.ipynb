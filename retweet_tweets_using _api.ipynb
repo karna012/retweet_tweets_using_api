{
 "cells": [
  {
   "cell_type": "code",
   "execution_count": null,
   "metadata": {},
   "outputs": [],
   "source": [
    "\n",
    "import tweepy\n",
    "import pandas as pd\n",
    "\n",
    "# Authenticate with Twitter API using API keys\n",
    "api_key_tw = 'your twitter api'\n",
    "api_key_tw_secret = 'your twitter secret key'\n",
    "access_token = 'your twitter access token'\n",
    "access_token_secret = 'your twitter access secret'\n",
    "\n",
    "auth = tweepy.OAuthHandler(api_key_tw, api_key_tw_secret)\n",
    "auth.set_access_token(access_token, access_token_secret)\n",
    "\n",
    "# Create API object\n",
    "api = tweepy.API(auth)\n",
    "\n",
    "# Define the user you want to retweet\n",
    "user_to_retweet = \"@stake\"\n",
    "\n",
    "# Get the user's timeline\n",
    "tweets = api.user_timeline(screen_name=user_to_retweet)\n",
    "\n",
    "# Retweet all tweets in the timeline\n",
    "for tweet in tweets:\n",
    "    try:\n",
    "        api.retweet(tweet.id)\n",
    "        print(f\"Retweeted tweet from {user_to_retweet}: {tweet.text}\")\n",
    "    except tweepy.errors.TweepError as e:\n",
    "        print(e.reason)"
   ]
  }
 ],
 "metadata": {
  "kernelspec": {
   "display_name": "Python 3",
   "language": "python",
   "name": "python3"
  },
  "language_info": {
   "codemirror_mode": {
    "name": "ipython",
    "version": 3
   },
   "file_extension": ".py",
   "mimetype": "text/x-python",
   "name": "python",
   "nbconvert_exporter": "python",
   "pygments_lexer": "ipython3",
   "version": "3.8.5"
  }
 },
 "nbformat": 4,
 "nbformat_minor": 4
}
